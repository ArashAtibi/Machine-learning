{
  "nbformat": 4,
  "nbformat_minor": 0,
  "metadata": {
    "colab": {
      "name": "3D U-net semantic segmentation.ipynb",
      "provenance": [],
      "mount_file_id": "1tH2mWfMiLIgCPQ3uE5gVtMQuPUXu5g7d",
      "authorship_tag": "ABX9TyPhme525rEy9dcxtVUmGLWC"
    },
    "kernelspec": {
      "name": "python3",
      "display_name": "Python 3"
    },
    "language_info": {
      "name": "python"
    },
    "accelerator": "GPU",
    "gpuClass": "standard"
  },
  "cells": [
    {
      "cell_type": "code",
      "source": [
        "#Automatically generated using colab. So please make sure you do your\n",
        "#pip installations first. \n",
        "\n",
        "#This code uses 3D Unet to train a network on 3D subvolumes (64x64x64).\n",
        "#It also segments a large volume and outputs a multidimensional OMETIFF file\n",
        "#Custom dataset is used for this code but it should work on any dataset, including BRATS.\n",
        "\n",
        "# Commented out IPython magic to ensure Python compatibility.\n",
        "#Latest Tensorflow (2.4) is giving error for some of the libraries we will be using, \n",
        "# especially segmentation models 3D. \n",
        "#Therefore, I am defining TF version 1.x. \n",
        "#If you have your own 3D unet model, you can try the latest TF version.\n",
        "# %tensorflow_version 1.x\n",
        "\n",
        "#Install all dependencies for sgementation-models-3D library.\n",
        "#We will use this library to call 3D unet.\n",
        "#Alternative, you can define your own Unet, if you have skills!\n",
        "!pip install classification-models-3D\n",
        "!pip install efficientnet-3D\n",
        "!pip install segmentation-models-3D\n",
        "#Use patchify to break large volumes into smaller for training \n",
        "#and also to put patches back together after prediction.\n",
        "!pip install patchify"
      ],
      "metadata": {
        "colab": {
          "base_uri": "https://localhost:8080/"
        },
        "id": "lJZGeL8nV7yB",
        "outputId": "25defbc5-8988-4833-f6f3-a4923637ecfa"
      },
      "execution_count": 2,
      "outputs": [
        {
          "output_type": "stream",
          "name": "stdout",
          "text": [
            "Looking in indexes: https://pypi.org/simple, https://us-python.pkg.dev/colab-wheels/public/simple/\n",
            "Collecting classification-models-3D\n",
            "  Downloading classification_models_3D-1.0.6-py3-none-any.whl (62 kB)\n",
            "\u001b[K     |████████████████████████████████| 62 kB 1.4 MB/s \n",
            "\u001b[?25hInstalling collected packages: classification-models-3D\n",
            "Successfully installed classification-models-3D-1.0.6\n",
            "Looking in indexes: https://pypi.org/simple, https://us-python.pkg.dev/colab-wheels/public/simple/\n",
            "Collecting efficientnet-3D\n",
            "  Downloading efficientnet_3D-1.0.2-py3-none-any.whl (15 kB)\n",
            "Installing collected packages: efficientnet-3D\n",
            "Successfully installed efficientnet-3D-1.0.2\n",
            "Looking in indexes: https://pypi.org/simple, https://us-python.pkg.dev/colab-wheels/public/simple/\n",
            "Collecting segmentation-models-3D\n",
            "  Downloading segmentation_models_3D-1.0.4-py3-none-any.whl (33 kB)\n",
            "Requirement already satisfied: tensorflow>=2.8.0 in /usr/local/lib/python3.7/dist-packages (from segmentation-models-3D) (2.8.2+zzzcolab20220527125636)\n",
            "Requirement already satisfied: classification-models-3D>=1.0.6 in /usr/local/lib/python3.7/dist-packages (from segmentation-models-3D) (1.0.6)\n",
            "Collecting keras-applications>=1.0.8\n",
            "  Downloading Keras_Applications-1.0.8-py3-none-any.whl (50 kB)\n",
            "\u001b[K     |████████████████████████████████| 50 kB 6.3 MB/s \n",
            "\u001b[?25hRequirement already satisfied: h5py in /usr/local/lib/python3.7/dist-packages (from keras-applications>=1.0.8->segmentation-models-3D) (3.1.0)\n",
            "Requirement already satisfied: numpy>=1.9.1 in /usr/local/lib/python3.7/dist-packages (from keras-applications>=1.0.8->segmentation-models-3D) (1.21.6)\n",
            "Requirement already satisfied: google-pasta>=0.1.1 in /usr/local/lib/python3.7/dist-packages (from tensorflow>=2.8.0->segmentation-models-3D) (0.2.0)\n",
            "Requirement already satisfied: tensorboard<2.9,>=2.8 in /usr/local/lib/python3.7/dist-packages (from tensorflow>=2.8.0->segmentation-models-3D) (2.8.0)\n",
            "Requirement already satisfied: wrapt>=1.11.0 in /usr/local/lib/python3.7/dist-packages (from tensorflow>=2.8.0->segmentation-models-3D) (1.14.1)\n",
            "Requirement already satisfied: tensorflow-estimator<2.9,>=2.8 in /usr/local/lib/python3.7/dist-packages (from tensorflow>=2.8.0->segmentation-models-3D) (2.8.0)\n",
            "Requirement already satisfied: six>=1.12.0 in /usr/local/lib/python3.7/dist-packages (from tensorflow>=2.8.0->segmentation-models-3D) (1.15.0)\n",
            "Requirement already satisfied: typing-extensions>=3.6.6 in /usr/local/lib/python3.7/dist-packages (from tensorflow>=2.8.0->segmentation-models-3D) (4.1.1)\n",
            "Requirement already satisfied: flatbuffers>=1.12 in /usr/local/lib/python3.7/dist-packages (from tensorflow>=2.8.0->segmentation-models-3D) (2.0)\n",
            "Requirement already satisfied: termcolor>=1.1.0 in /usr/local/lib/python3.7/dist-packages (from tensorflow>=2.8.0->segmentation-models-3D) (1.1.0)\n",
            "Requirement already satisfied: setuptools in /usr/local/lib/python3.7/dist-packages (from tensorflow>=2.8.0->segmentation-models-3D) (57.4.0)\n",
            "Requirement already satisfied: libclang>=9.0.1 in /usr/local/lib/python3.7/dist-packages (from tensorflow>=2.8.0->segmentation-models-3D) (14.0.1)\n",
            "Requirement already satisfied: protobuf<3.20,>=3.9.2 in /usr/local/lib/python3.7/dist-packages (from tensorflow>=2.8.0->segmentation-models-3D) (3.17.3)\n",
            "Requirement already satisfied: absl-py>=0.4.0 in /usr/local/lib/python3.7/dist-packages (from tensorflow>=2.8.0->segmentation-models-3D) (1.1.0)\n",
            "Requirement already satisfied: grpcio<2.0,>=1.24.3 in /usr/local/lib/python3.7/dist-packages (from tensorflow>=2.8.0->segmentation-models-3D) (1.46.3)\n",
            "Requirement already satisfied: opt-einsum>=2.3.2 in /usr/local/lib/python3.7/dist-packages (from tensorflow>=2.8.0->segmentation-models-3D) (3.3.0)\n",
            "Requirement already satisfied: astunparse>=1.6.0 in /usr/local/lib/python3.7/dist-packages (from tensorflow>=2.8.0->segmentation-models-3D) (1.6.3)\n",
            "Requirement already satisfied: tensorflow-io-gcs-filesystem>=0.23.1 in /usr/local/lib/python3.7/dist-packages (from tensorflow>=2.8.0->segmentation-models-3D) (0.26.0)\n",
            "Requirement already satisfied: keras-preprocessing>=1.1.1 in /usr/local/lib/python3.7/dist-packages (from tensorflow>=2.8.0->segmentation-models-3D) (1.1.2)\n",
            "Requirement already satisfied: gast>=0.2.1 in /usr/local/lib/python3.7/dist-packages (from tensorflow>=2.8.0->segmentation-models-3D) (0.5.3)\n",
            "Requirement already satisfied: keras<2.9,>=2.8.0rc0 in /usr/local/lib/python3.7/dist-packages (from tensorflow>=2.8.0->segmentation-models-3D) (2.8.0)\n",
            "Requirement already satisfied: wheel<1.0,>=0.23.0 in /usr/local/lib/python3.7/dist-packages (from astunparse>=1.6.0->tensorflow>=2.8.0->segmentation-models-3D) (0.37.1)\n",
            "Requirement already satisfied: cached-property in /usr/local/lib/python3.7/dist-packages (from h5py->keras-applications>=1.0.8->segmentation-models-3D) (1.5.2)\n",
            "Requirement already satisfied: markdown>=2.6.8 in /usr/local/lib/python3.7/dist-packages (from tensorboard<2.9,>=2.8->tensorflow>=2.8.0->segmentation-models-3D) (3.3.7)\n",
            "Requirement already satisfied: werkzeug>=0.11.15 in /usr/local/lib/python3.7/dist-packages (from tensorboard<2.9,>=2.8->tensorflow>=2.8.0->segmentation-models-3D) (1.0.1)\n",
            "Requirement already satisfied: requests<3,>=2.21.0 in /usr/local/lib/python3.7/dist-packages (from tensorboard<2.9,>=2.8->tensorflow>=2.8.0->segmentation-models-3D) (2.23.0)\n",
            "Requirement already satisfied: tensorboard-plugin-wit>=1.6.0 in /usr/local/lib/python3.7/dist-packages (from tensorboard<2.9,>=2.8->tensorflow>=2.8.0->segmentation-models-3D) (1.8.1)\n",
            "Requirement already satisfied: google-auth<3,>=1.6.3 in /usr/local/lib/python3.7/dist-packages (from tensorboard<2.9,>=2.8->tensorflow>=2.8.0->segmentation-models-3D) (1.35.0)\n",
            "Requirement already satisfied: google-auth-oauthlib<0.5,>=0.4.1 in /usr/local/lib/python3.7/dist-packages (from tensorboard<2.9,>=2.8->tensorflow>=2.8.0->segmentation-models-3D) (0.4.6)\n",
            "Requirement already satisfied: tensorboard-data-server<0.7.0,>=0.6.0 in /usr/local/lib/python3.7/dist-packages (from tensorboard<2.9,>=2.8->tensorflow>=2.8.0->segmentation-models-3D) (0.6.1)\n",
            "Requirement already satisfied: rsa<5,>=3.1.4 in /usr/local/lib/python3.7/dist-packages (from google-auth<3,>=1.6.3->tensorboard<2.9,>=2.8->tensorflow>=2.8.0->segmentation-models-3D) (4.8)\n",
            "Requirement already satisfied: cachetools<5.0,>=2.0.0 in /usr/local/lib/python3.7/dist-packages (from google-auth<3,>=1.6.3->tensorboard<2.9,>=2.8->tensorflow>=2.8.0->segmentation-models-3D) (4.2.4)\n",
            "Requirement already satisfied: pyasn1-modules>=0.2.1 in /usr/local/lib/python3.7/dist-packages (from google-auth<3,>=1.6.3->tensorboard<2.9,>=2.8->tensorflow>=2.8.0->segmentation-models-3D) (0.2.8)\n",
            "Requirement already satisfied: requests-oauthlib>=0.7.0 in /usr/local/lib/python3.7/dist-packages (from google-auth-oauthlib<0.5,>=0.4.1->tensorboard<2.9,>=2.8->tensorflow>=2.8.0->segmentation-models-3D) (1.3.1)\n",
            "Requirement already satisfied: importlib-metadata>=4.4 in /usr/local/lib/python3.7/dist-packages (from markdown>=2.6.8->tensorboard<2.9,>=2.8->tensorflow>=2.8.0->segmentation-models-3D) (4.11.4)\n",
            "Requirement already satisfied: zipp>=0.5 in /usr/local/lib/python3.7/dist-packages (from importlib-metadata>=4.4->markdown>=2.6.8->tensorboard<2.9,>=2.8->tensorflow>=2.8.0->segmentation-models-3D) (3.8.0)\n",
            "Requirement already satisfied: pyasn1<0.5.0,>=0.4.6 in /usr/local/lib/python3.7/dist-packages (from pyasn1-modules>=0.2.1->google-auth<3,>=1.6.3->tensorboard<2.9,>=2.8->tensorflow>=2.8.0->segmentation-models-3D) (0.4.8)\n",
            "Requirement already satisfied: certifi>=2017.4.17 in /usr/local/lib/python3.7/dist-packages (from requests<3,>=2.21.0->tensorboard<2.9,>=2.8->tensorflow>=2.8.0->segmentation-models-3D) (2022.6.15)\n",
            "Requirement already satisfied: urllib3!=1.25.0,!=1.25.1,<1.26,>=1.21.1 in /usr/local/lib/python3.7/dist-packages (from requests<3,>=2.21.0->tensorboard<2.9,>=2.8->tensorflow>=2.8.0->segmentation-models-3D) (1.24.3)\n",
            "Requirement already satisfied: chardet<4,>=3.0.2 in /usr/local/lib/python3.7/dist-packages (from requests<3,>=2.21.0->tensorboard<2.9,>=2.8->tensorflow>=2.8.0->segmentation-models-3D) (3.0.4)\n",
            "Requirement already satisfied: idna<3,>=2.5 in /usr/local/lib/python3.7/dist-packages (from requests<3,>=2.21.0->tensorboard<2.9,>=2.8->tensorflow>=2.8.0->segmentation-models-3D) (2.10)\n",
            "Requirement already satisfied: oauthlib>=3.0.0 in /usr/local/lib/python3.7/dist-packages (from requests-oauthlib>=0.7.0->google-auth-oauthlib<0.5,>=0.4.1->tensorboard<2.9,>=2.8->tensorflow>=2.8.0->segmentation-models-3D) (3.2.0)\n",
            "Installing collected packages: keras-applications, segmentation-models-3D\n",
            "Successfully installed keras-applications-1.0.8 segmentation-models-3D-1.0.4\n",
            "Looking in indexes: https://pypi.org/simple, https://us-python.pkg.dev/colab-wheels/public/simple/\n",
            "Collecting patchify\n",
            "  Downloading patchify-0.2.3-py3-none-any.whl (6.6 kB)\n",
            "Requirement already satisfied: numpy<2,>=1 in /usr/local/lib/python3.7/dist-packages (from patchify) (1.21.6)\n",
            "Installing collected packages: patchify\n",
            "Successfully installed patchify-0.2.3\n"
          ]
        }
      ]
    },
    {
      "cell_type": "code",
      "source": [
        "%tensorflow_version 1.x\n",
        "import tensorflow as tf\n",
        "import keras\n",
        "print(tf.__version__)\n",
        "print(keras.__version__)"
      ],
      "metadata": {
        "colab": {
          "base_uri": "https://localhost:8080/"
        },
        "id": "y2h15jbzWGFq",
        "outputId": "7bd07bdc-0ccb-4dcb-c99d-6962c281022d"
      },
      "execution_count": 4,
      "outputs": [
        {
          "output_type": "stream",
          "name": "stdout",
          "text": [
            "TensorFlow is already loaded. Please restart the runtime to change versions.\n",
            "2.8.2\n",
            "2.8.0\n"
          ]
        }
      ]
    },
    {
      "cell_type": "code",
      "source": [
        "#Make sure the GPU is available. \n",
        "import tensorflow as tf\n",
        "device_name = tf.test.gpu_device_name()\n",
        "if device_name != '/device:GPU:0':\n",
        "  raise SystemError('GPU device not found')\n",
        "print('Found GPU at: {}'.format(device_name))\n",
        "\n",
        "import segmentation_models_3D as sm\n",
        "\n",
        "from skimage import io\n",
        "from patchify import patchify, unpatchify\n",
        "import numpy as np\n",
        "from matplotlib import pyplot as plt\n",
        "from keras import backend as K\n",
        "from sklearn.model_selection import train_test_split"
      ],
      "metadata": {
        "colab": {
          "base_uri": "https://localhost:8080/"
        },
        "id": "-4WC4RLZWOnR",
        "outputId": "099ce975-38da-4fbc-fc47-28ef90727267"
      },
      "execution_count": 6,
      "outputs": [
        {
          "output_type": "stream",
          "name": "stdout",
          "text": [
            "Found GPU at: /device:GPU:0\n"
          ]
        }
      ]
    },
    {
      "cell_type": "code",
      "source": [
        "# from keras.utils import to_categorical\n",
        "from tensorflow.keras.utils import to_categorical\n"
      ],
      "metadata": {
        "colab": {
          "base_uri": "https://localhost:8080/",
          "height": 321
        },
        "id": "a36FcCktXUwZ",
        "outputId": "212140dc-a623-4ac7-c7b2-09f9767ff42a"
      },
      "execution_count": 27,
      "outputs": [
        {
          "output_type": "error",
          "ename": "ModuleNotFoundError",
          "evalue": "ignored",
          "traceback": [
            "\u001b[0;31m---------------------------------------------------------------------------\u001b[0m",
            "\u001b[0;31mModuleNotFoundError\u001b[0m                       Traceback (most recent call last)",
            "\u001b[0;32m<ipython-input-27-739452753d67>\u001b[0m in \u001b[0;36m<module>\u001b[0;34m()\u001b[0m\n\u001b[1;32m      1\u001b[0m \u001b[0;31m# from keras.utils import to_categorical\u001b[0m\u001b[0;34m\u001b[0m\u001b[0;34m\u001b[0m\u001b[0;34m\u001b[0m\u001b[0m\n\u001b[0;32m----> 2\u001b[0;31m \u001b[0;32mfrom\u001b[0m \u001b[0mtf\u001b[0m\u001b[0;34m.\u001b[0m\u001b[0mkeras\u001b[0m\u001b[0;34m.\u001b[0m\u001b[0mutils\u001b[0m \u001b[0;32mimport\u001b[0m \u001b[0mto_categorical\u001b[0m\u001b[0;34m\u001b[0m\u001b[0;34m\u001b[0m\u001b[0m\n\u001b[0m",
            "\u001b[0;31mModuleNotFoundError\u001b[0m: No module named 'tf'",
            "",
            "\u001b[0;31m---------------------------------------------------------------------------\u001b[0;32m\nNOTE: If your import is failing due to a missing package, you can\nmanually install dependencies using either !pip or !apt.\n\nTo view examples of installing some common dependencies, click the\n\"Open Examples\" button below.\n\u001b[0;31m---------------------------------------------------------------------------\u001b[0m\n"
          ],
          "errorDetails": {
            "actions": [
              {
                "action": "open_url",
                "actionText": "Open Examples",
                "url": "/notebooks/snippets/importing_libraries.ipynb"
              }
            ]
          }
        }
      ]
    },
    {
      "cell_type": "code",
      "source": [
        "# mount the data\n",
        "from google.colab import drive\n",
        "drive.mount('/content/drive')\n",
        "\n",
        "!cp /content/drive/MyDrive/sandstone_data_for_ML.zip /content/\n",
        "!unzip sandstone_data_for_ML.zip"
      ],
      "metadata": {
        "colab": {
          "base_uri": "https://localhost:8080/"
        },
        "id": "uLrL7pPOW4uJ",
        "outputId": "d0cee6a3-2358-4100-dae3-d4edbc3ef8d9"
      },
      "execution_count": 9,
      "outputs": [
        {
          "output_type": "stream",
          "name": "stdout",
          "text": [
            "Drive already mounted at /content/drive; to attempt to forcibly remount, call drive.mount(\"/content/drive\", force_remount=True).\n",
            "Archive:  sandstone_data_for_ML.zip\n",
            "   creating: sandstone_data_for_ML/\n",
            "   creating: sandstone_data_for_ML/data_for_3D_Unet/\n",
            "  inflating: sandstone_data_for_ML/data_for_3D_Unet/448_images_512x512.tif  \n",
            "  inflating: sandstone_data_for_ML/data_for_3D_Unet/train_images_256_256_256.tif  \n",
            "  inflating: sandstone_data_for_ML/data_for_3D_Unet/train_masks_256_256_256.tif  \n",
            "   creating: sandstone_data_for_ML/full_labels_for_deep_learning/\n",
            "   creating: sandstone_data_for_ML/full_labels_for_deep_learning/128_patches/\n",
            "  inflating: sandstone_data_for_ML/full_labels_for_deep_learning/128_patches/images_as_128x128_patches.tif  \n",
            "  inflating: sandstone_data_for_ML/full_labels_for_deep_learning/128_patches/masks_as_128x128_patches.tif  \n",
            "  inflating: sandstone_data_for_ML/full_labels_for_deep_learning/train_imgs_cropped_768.tif  \n",
            "  inflating: sandstone_data_for_ML/full_labels_for_deep_learning/train_masks_grey_cropped_768.tif  \n",
            "   creating: sandstone_data_for_ML/partial_labels_for_traditional_ML/\n",
            "  inflating: sandstone_data_for_ML/partial_labels_for_traditional_ML/sandstone_partial_labels_from_APEER_ML.tif  \n",
            "  inflating: sandstone_data_for_ML/partial_labels_for_traditional_ML/sandstone_train_images.tif  \n",
            "  inflating: sandstone_data_for_ML/Readme.pdf  \n",
            "  inflating: sandstone_data_for_ML/sandstone_all_462_images.tif  \n",
            "   creating: sandstone_data_for_ML/separate_labels_for_each_class/\n",
            "  inflating: sandstone_data_for_ML/separate_labels_for_each_class/9_train_images_sandstone.tif  \n",
            "  inflating: sandstone_data_for_ML/separate_labels_for_each_class/9_train_images_sandstone_class1.ome.tiff  \n",
            "  inflating: sandstone_data_for_ML/separate_labels_for_each_class/9_train_images_sandstone_class2.ome.tiff  \n",
            "  inflating: sandstone_data_for_ML/separate_labels_for_each_class/9_train_images_sandstone_class3.ome.tiff  \n",
            "  inflating: sandstone_data_for_ML/separate_labels_for_each_class/9_train_images_sandstone_class4.ome.tiff  \n"
          ]
        }
      ]
    },
    {
      "cell_type": "code",
      "source": [
        "#Load input images and masks. \n",
        "#Here we load 256x256x256 pixel volume. We will break it into patches of 64x64x64 for training. \n",
        "image = io.imread('/content/sandstone_data_for_ML/data_for_3D_Unet/train_images_256_256_256.tif')\n",
        "img_patches = patchify(image, (64, 64, 64), step=64)  #Step=64 for 64 patches means no overlap\n",
        "\n",
        "mask = io.imread('/content/sandstone_data_for_ML/data_for_3D_Unet/train_masks_256_256_256.tif')\n",
        "mask_patches = patchify(mask, (64, 64, 64), step=64)"
      ],
      "metadata": {
        "id": "Wft191blYi-i"
      },
      "execution_count": 10,
      "outputs": []
    },
    {
      "cell_type": "code",
      "source": [
        "\n",
        "#Sanity check, to check if images and masks are matching \n",
        "import random\n",
        "import numpy as np\n",
        "image_number = random.randint(0, 63)\n",
        "plt.figure(figsize=(12, 6))\n",
        "plt.subplot(121)\n",
        "plt.imshow(img_patches[1,2,3,:,:,image_number])\n",
        "plt.subplot(122)\n",
        "plt.imshow(mask_patches[1,2,3,:,:,image_number])\n",
        "plt.show()"
      ],
      "metadata": {
        "colab": {
          "base_uri": "https://localhost:8080/",
          "height": 354
        },
        "id": "8HsWJafyZQpx",
        "outputId": "b50dc6f7-a131-4015-9d22-0498ba347a2a"
      },
      "execution_count": 21,
      "outputs": [
        {
          "output_type": "display_data",
          "data": {
            "text/plain": [
              "<Figure size 864x432 with 2 Axes>"
            ],
            "image/png": "[encoded data removed]"
          },
          "metadata": {
            "needs_background": "light"
          }
        }
      ]
    },
    {
      "cell_type": "code",
      "source": [
        "input_img = np.reshape(img_patches, (-1, img_patches.shape[3], img_patches.shape[4], img_patches.shape[5]))\n",
        "input_mask = np.reshape(mask_patches, (-1, mask_patches.shape[3], mask_patches.shape[4], mask_patches.shape[5]))\n",
        "\n",
        "print(input_img.shape)  # n_patches, x, y, z"
      ],
      "metadata": {
        "colab": {
          "base_uri": "https://localhost:8080/"
        },
        "id": "x_MIPYDSaNZz",
        "outputId": "394c7f95-0243-436c-e269-9dd6cc9bd883"
      },
      "execution_count": 22,
      "outputs": [
        {
          "output_type": "stream",
          "name": "stdout",
          "text": [
            "(64, 64, 64, 64)\n"
          ]
        }
      ]
    },
    {
      "cell_type": "code",
      "source": [
        "n_classes=4\n",
        "\n",
        "#Convert grey image to 3 channels by copying channel 3 times.\n",
        "#We do this as our unet model expects 3 channel input. \n",
        "\n",
        "train_img = np.stack((input_img,)*3, axis=-1)\n",
        "train_mask = np.expand_dims(input_mask, axis=4)\n",
        "\n",
        "\n",
        "train_mask_cat = to_categorical(train_mask, num_classes=n_classes)\n",
        "\n",
        "\n",
        "X_train, X_test, y_train, y_test = train_test_split(train_img, train_mask_cat, test_size = 0.10, random_state = 0)\n"
      ],
      "metadata": {
        "id": "QVb9dqqLa8V1"
      },
      "execution_count": 23,
      "outputs": []
    },
    {
      "cell_type": "code",
      "source": [
        "\"\"\" this part is excessive \"\"\"\n",
        "# Loss Function and coefficients to be used during training:\n",
        "def dice_coefficient(y_true, y_pred):\n",
        "    smoothing_factor = 1\n",
        "    flat_y_true = K.flatten(y_true)\n",
        "    flat_y_pred = K.flatten(y_pred)\n",
        "    return (2. * K.sum(flat_y_true * flat_y_pred) + smoothing_factor) / (K.sum(flat_y_true) + K.sum(flat_y_pred) + smoothing_factor)\n",
        "\n",
        "def dice_coefficient_loss(y_true, y_pred):\n",
        "    return 1 - dice_coefficient(y_true, y_pred)\n",
        "\n",
        "\"\"\"Backbones: ['resnet18', 'resnet34', 'resnet50', 'resnet101', 'resnet152', 'seresnet18', 'seresnet34', 'seresnet50', 'seresnet101', 'seresnet152', 'seresnext50', 'seresnext101', 'senet154', 'resnext50', 'resnext101', 'vgg16', 'vgg19', 'densenet121', 'densenet169', 'densenet201', 'inceptionresnetv2', 'inceptionv3', 'mobilenet', 'mobilenetv2', 'efficientnetb0', 'efficientnetb1', 'efficientnetb2', 'efficientnetb3', 'efficientnetb4', 'efficientnetb5', 'efficientnetb6', 'efficientnetb7']\"\"\"\n"
      ],
      "metadata": {
        "colab": {
          "base_uri": "https://localhost:8080/",
          "height": 122
        },
        "id": "qxrTFmEbbIL1",
        "outputId": "4ca59db8-836d-44da-b42d-29fe59b8f61b"
      },
      "execution_count": 24,
      "outputs": [
        {
          "output_type": "execute_result",
          "data": {
            "text/plain": [
              "\"Backbones: ['resnet18', 'resnet34', 'resnet50', 'resnet101', 'resnet152', 'seresnet18', 'seresnet34', 'seresnet50', 'seresnet101', 'seresnet152', 'seresnext50', 'seresnext101', 'senet154', 'resnext50', 'resnext101', 'vgg16', 'vgg19', 'densenet121', 'densenet169', 'densenet201', 'inceptionresnetv2', 'inceptionv3', 'mobilenet', 'mobilenetv2', 'efficientnetb0', 'efficientnetb1', 'efficientnetb2', 'efficientnetb3', 'efficientnetb4', 'efficientnetb5', 'efficientnetb6', 'efficientnetb7']\""
            ],
            "application/vnd.google.colaboratory.intrinsic+json": {
              "type": "string"
            }
          },
          "metadata": {},
          "execution_count": 24
        }
      ]
    },
    {
      "cell_type": "code",
      "source": [
        "#Define parameters for our model.\n",
        "\n",
        "encoder_weights = 'imagenet'\n",
        "BACKBONE = 'vgg16'  #Try vgg16, efficientnetb7, inceptionv3, resnet50\n",
        "activation = 'softmax'\n",
        "patch_size = 64\n",
        "n_classes = 4\n",
        "channels=3\n",
        "\n",
        "LR = 0.0001\n",
        "optim = tf.keras.optimizers.Adam(LR)\n",
        "\n",
        "# Segmentation models losses can be combined together by '+' and scaled by integer or float factor\n",
        "# set class weights for dice_loss (car: 1.; pedestrian: 2.; background: 0.5;)\n",
        "dice_loss = sm.losses.DiceLoss(class_weights=np.array([0.25, 0.25, 0.25, 0.25])) \n",
        "focal_loss = sm.losses.CategoricalFocalLoss()\n",
        "total_loss = dice_loss + (1 * focal_loss)\n",
        "\n",
        "# actulally total_loss can be imported directly from library, above example just show you how to manipulate with losses\n",
        "# total_loss = sm.losses.binary_focal_dice_loss # or sm.losses.categorical_focal_dice_loss \n",
        "\n",
        "metrics = [sm.metrics.IOUScore(threshold=0.5), sm.metrics.FScore(threshold=0.5)]\n"
      ],
      "metadata": {
        "id": "wf4d-9_MbW7D"
      },
      "execution_count": 29,
      "outputs": []
    },
    {
      "cell_type": "code",
      "source": [
        "preprocess_input = sm.get_preprocessing(BACKBONE)\n",
        "\n",
        "#Preprocess input data - otherwise you end up with garbage resutls \n",
        "# and potentially model that does not converge.\n",
        "X_train_prep = preprocess_input(X_train)\n",
        "X_test_prep = preprocess_input(X_test)\n",
        "\n",
        "#Define the model. Here we use Unet but we can also use other model architectures from the library.\n",
        "model = sm.Unet(BACKBONE, classes=n_classes, \n",
        "                input_shape=(patch_size, patch_size, patch_size, channels), \n",
        "                encoder_weights=encoder_weights,\n",
        "                activation=activation)\n",
        "\n",
        "model.compile(optimizer = optim, loss=total_loss, metrics=metrics)\n",
        "print(model.summary())\n",
        "\n",
        "#Fit the model\n",
        "history=model.fit(X_train_prep, \n",
        "          y_train,\n",
        "          batch_size=8, \n",
        "          epochs=100,\n",
        "          verbose=1,\n",
        "          validation_data=(X_test_prep, y_test))\n",
        "\n",
        "#Save model for future use\n",
        "model.save('/content/sandstone_data_for_ML/sandstone_3d/3D_model_vgg16_100epochs.h5')\n",
        "\n",
        "###"
      ],
      "metadata": {
        "colab": {
          "base_uri": "https://localhost:8080/"
        },
        "id": "bIQhpQTndk90",
        "outputId": "b05f8f52-a6a6-4416-ccc6-163b22ea04b3"
      },
      "execution_count": 30,
      "outputs": [
        {
          "output_type": "stream",
          "name": "stdout",
          "text": [
            "Downloading data from https://github.com/ZFTurbo/classification_models_3D/releases/download/v1.0.4/vgg16_inp_channel_3_tch_0_top_False.h5\n",
            "176611328/176606448 [==============================] - 12s 0us/step\n",
            "176619520/176606448 [==============================] - 12s 0us/step\n",
            "Model: \"model\"\n",
            "__________________________________________________________________________________________________\n",
            " Layer (type)                   Output Shape         Param #     Connected to                     \n",
            "==================================================================================================\n",
            " input_1 (InputLayer)           [(None, 64, 64, 64,  0           []                               \n",
            "                                 3)]                                                              \n",
            "                                                                                                  \n",
            " block1_conv1 (Conv3D)          (None, 64, 64, 64,   5248        ['input_1[0][0]']                \n",
            "                                64)                                                               \n",
            "                                                                                                  \n",
            " block1_conv2 (Conv3D)          (None, 64, 64, 64,   110656      ['block1_conv1[0][0]']           \n",
            "                                64)                                                               \n",
            "                                                                                                  \n",
            " block1_pool (MaxPooling3D)     (None, 32, 32, 32,   0           ['block1_conv2[0][0]']           \n",
            "                                64)                                                               \n",
            "                                                                                                  \n",
            " block2_conv1 (Conv3D)          (None, 32, 32, 32,   221312      ['block1_pool[0][0]']            \n",
            "                                128)                                                              \n",
            "                                                                                                  \n",
            " block2_conv2 (Conv3D)          (None, 32, 32, 32,   442496      ['block2_conv1[0][0]']           \n",
            "                                128)                                                              \n",
            "                                                                                                  \n",
            " block2_pool (MaxPooling3D)     (None, 16, 16, 16,   0           ['block2_conv2[0][0]']           \n",
            "                                128)                                                              \n",
            "                                                                                                  \n",
            " block3_conv1 (Conv3D)          (None, 16, 16, 16,   884992      ['block2_pool[0][0]']            \n",
            "                                256)                                                              \n",
            "                                                                                                  \n",
            " block3_conv2 (Conv3D)          (None, 16, 16, 16,   1769728     ['block3_conv1[0][0]']           \n",
            "                                256)                                                              \n",
            "                                                                                                  \n",
            " block3_conv3 (Conv3D)          (None, 16, 16, 16,   1769728     ['block3_conv2[0][0]']           \n",
            "                                256)                                                              \n",
            "                                                                                                  \n",
            " block3_pool (MaxPooling3D)     (None, 8, 8, 8, 256  0           ['block3_conv3[0][0]']           \n",
            "                                )                                                                 \n",
            "                                                                                                  \n",
            " block4_conv1 (Conv3D)          (None, 8, 8, 8, 512  3539456     ['block3_pool[0][0]']            \n",
            "                                )                                                                 \n",
            "                                                                                                  \n",
            " block4_conv2 (Conv3D)          (None, 8, 8, 8, 512  7078400     ['block4_conv1[0][0]']           \n",
            "                                )                                                                 \n",
            "                                                                                                  \n",
            " block4_conv3 (Conv3D)          (None, 8, 8, 8, 512  7078400     ['block4_conv2[0][0]']           \n",
            "                                )                                                                 \n",
            "                                                                                                  \n",
            " block4_pool (MaxPooling3D)     (None, 4, 4, 4, 512  0           ['block4_conv3[0][0]']           \n",
            "                                )                                                                 \n",
            "                                                                                                  \n",
            " block5_conv1 (Conv3D)          (None, 4, 4, 4, 512  7078400     ['block4_pool[0][0]']            \n",
            "                                )                                                                 \n",
            "                                                                                                  \n",
            " block5_conv2 (Conv3D)          (None, 4, 4, 4, 512  7078400     ['block5_conv1[0][0]']           \n",
            "                                )                                                                 \n",
            "                                                                                                  \n",
            " block5_conv3 (Conv3D)          (None, 4, 4, 4, 512  7078400     ['block5_conv2[0][0]']           \n",
            "                                )                                                                 \n",
            "                                                                                                  \n",
            " block5_pool (MaxPooling3D)     (None, 2, 2, 2, 512  0           ['block5_conv3[0][0]']           \n",
            "                                )                                                                 \n",
            "                                                                                                  \n",
            " center_block1_conv (Conv3D)    (None, 2, 2, 2, 512  7077888     ['block5_pool[0][0]']            \n",
            "                                )                                                                 \n",
            "                                                                                                  \n",
            " center_block1_bn (BatchNormali  (None, 2, 2, 2, 512  2048       ['center_block1_conv[0][0]']     \n",
            " zation)                        )                                                                 \n",
            "                                                                                                  \n",
            " center_block1_relu (Activation  (None, 2, 2, 2, 512  0          ['center_block1_bn[0][0]']       \n",
            " )                              )                                                                 \n",
            "                                                                                                  \n",
            " center_block2_conv (Conv3D)    (None, 2, 2, 2, 512  7077888     ['center_block1_relu[0][0]']     \n",
            "                                )                                                                 \n",
            "                                                                                                  \n",
            " center_block2_bn (BatchNormali  (None, 2, 2, 2, 512  2048       ['center_block2_conv[0][0]']     \n",
            " zation)                        )                                                                 \n",
            "                                                                                                  \n",
            " center_block2_relu (Activation  (None, 2, 2, 2, 512  0          ['center_block2_bn[0][0]']       \n",
            " )                              )                                                                 \n",
            "                                                                                                  \n",
            " decoder_stage0_upsampling (UpS  (None, 4, 4, 4, 512  0          ['center_block2_relu[0][0]']     \n",
            " ampling3D)                     )                                                                 \n",
            "                                                                                                  \n",
            " decoder_stage0_concat (Concate  (None, 4, 4, 4, 102  0          ['decoder_stage0_upsampling[0][0]\n",
            " nate)                          4)                               ',                               \n",
            "                                                                  'block5_conv3[0][0]']           \n",
            "                                                                                                  \n",
            " decoder_stage0a_conv (Conv3D)  (None, 4, 4, 4, 256  7077888     ['decoder_stage0_concat[0][0]']  \n",
            "                                )                                                                 \n",
            "                                                                                                  \n",
            " decoder_stage0a_bn (BatchNorma  (None, 4, 4, 4, 256  1024       ['decoder_stage0a_conv[0][0]']   \n",
            " lization)                      )                                                                 \n",
            "                                                                                                  \n",
            " decoder_stage0a_relu (Activati  (None, 4, 4, 4, 256  0          ['decoder_stage0a_bn[0][0]']     \n",
            " on)                            )                                                                 \n",
            "                                                                                                  \n",
            " decoder_stage0b_conv (Conv3D)  (None, 4, 4, 4, 256  1769472     ['decoder_stage0a_relu[0][0]']   \n",
            "                                )                                                                 \n",
            "                                                                                                  \n",
            " decoder_stage0b_bn (BatchNorma  (None, 4, 4, 4, 256  1024       ['decoder_stage0b_conv[0][0]']   \n",
            " lization)                      )                                                                 \n",
            "                                                                                                  \n",
            " decoder_stage0b_relu (Activati  (None, 4, 4, 4, 256  0          ['decoder_stage0b_bn[0][0]']     \n",
            " on)                            )                                                                 \n",
            "                                                                                                  \n",
            " decoder_stage1_upsampling (UpS  (None, 8, 8, 8, 256  0          ['decoder_stage0b_relu[0][0]']   \n",
            " ampling3D)                     )                                                                 \n",
            "                                                                                                  \n",
            " decoder_stage1_concat (Concate  (None, 8, 8, 8, 768  0          ['decoder_stage1_upsampling[0][0]\n",
            " nate)                          )                                ',                               \n",
            "                                                                  'block4_conv3[0][0]']           \n",
            "                                                                                                  \n",
            " decoder_stage1a_conv (Conv3D)  (None, 8, 8, 8, 128  2654208     ['decoder_stage1_concat[0][0]']  \n",
            "                                )                                                                 \n",
            "                                                                                                  \n",
            " decoder_stage1a_bn (BatchNorma  (None, 8, 8, 8, 128  512        ['decoder_stage1a_conv[0][0]']   \n",
            " lization)                      )                                                                 \n",
            "                                                                                                  \n",
            " decoder_stage1a_relu (Activati  (None, 8, 8, 8, 128  0          ['decoder_stage1a_bn[0][0]']     \n",
            " on)                            )                                                                 \n",
            "                                                                                                  \n",
            " decoder_stage1b_conv (Conv3D)  (None, 8, 8, 8, 128  442368      ['decoder_stage1a_relu[0][0]']   \n",
            "                                )                                                                 \n",
            "                                                                                                  \n",
            " decoder_stage1b_bn (BatchNorma  (None, 8, 8, 8, 128  512        ['decoder_stage1b_conv[0][0]']   \n",
            " lization)                      )                                                                 \n",
            "                                                                                                  \n",
            " decoder_stage1b_relu (Activati  (None, 8, 8, 8, 128  0          ['decoder_stage1b_bn[0][0]']     \n",
            " on)                            )                                                                 \n",
            "                                                                                                  \n",
            " decoder_stage2_upsampling (UpS  (None, 16, 16, 16,   0          ['decoder_stage1b_relu[0][0]']   \n",
            " ampling3D)                     128)                                                              \n",
            "                                                                                                  \n",
            " decoder_stage2_concat (Concate  (None, 16, 16, 16,   0          ['decoder_stage2_upsampling[0][0]\n",
            " nate)                          384)                             ',                               \n",
            "                                                                  'block3_conv3[0][0]']           \n",
            "                                                                                                  \n",
            " decoder_stage2a_conv (Conv3D)  (None, 16, 16, 16,   663552      ['decoder_stage2_concat[0][0]']  \n",
            "                                64)                                                               \n",
            "                                                                                                  \n",
            " decoder_stage2a_bn (BatchNorma  (None, 16, 16, 16,   256        ['decoder_stage2a_conv[0][0]']   \n",
            " lization)                      64)                                                               \n",
            "                                                                                                  \n",
            " decoder_stage2a_relu (Activati  (None, 16, 16, 16,   0          ['decoder_stage2a_bn[0][0]']     \n",
            " on)                            64)                                                               \n",
            "                                                                                                  \n",
            " decoder_stage2b_conv (Conv3D)  (None, 16, 16, 16,   110592      ['decoder_stage2a_relu[0][0]']   \n",
            "                                64)                                                               \n",
            "                                                                                                  \n",
            " decoder_stage2b_bn (BatchNorma  (None, 16, 16, 16,   256        ['decoder_stage2b_conv[0][0]']   \n",
            " lization)                      64)                                                               \n",
            "                                                                                                  \n",
            " decoder_stage2b_relu (Activati  (None, 16, 16, 16,   0          ['decoder_stage2b_bn[0][0]']     \n",
            " on)                            64)                                                               \n",
            "                                                                                                  \n",
            " decoder_stage3_upsampling (UpS  (None, 32, 32, 32,   0          ['decoder_stage2b_relu[0][0]']   \n",
            " ampling3D)                     64)                                                               \n",
            "                                                                                                  \n",
            " decoder_stage3_concat (Concate  (None, 32, 32, 32,   0          ['decoder_stage3_upsampling[0][0]\n",
            " nate)                          192)                             ',                               \n",
            "                                                                  'block2_conv2[0][0]']           \n",
            "                                                                                                  \n",
            " decoder_stage3a_conv (Conv3D)  (None, 32, 32, 32,   165888      ['decoder_stage3_concat[0][0]']  \n",
            "                                32)                                                               \n",
            "                                                                                                  \n",
            " decoder_stage3a_bn (BatchNorma  (None, 32, 32, 32,   128        ['decoder_stage3a_conv[0][0]']   \n",
            " lization)                      32)                                                               \n",
            "                                                                                                  \n",
            " decoder_stage3a_relu (Activati  (None, 32, 32, 32,   0          ['decoder_stage3a_bn[0][0]']     \n",
            " on)                            32)                                                               \n",
            "                                                                                                  \n",
            " decoder_stage3b_conv (Conv3D)  (None, 32, 32, 32,   27648       ['decoder_stage3a_relu[0][0]']   \n",
            "                                32)                                                               \n",
            "                                                                                                  \n",
            " decoder_stage3b_bn (BatchNorma  (None, 32, 32, 32,   128        ['decoder_stage3b_conv[0][0]']   \n",
            " lization)                      32)                                                               \n",
            "                                                                                                  \n",
            " decoder_stage3b_relu (Activati  (None, 32, 32, 32,   0          ['decoder_stage3b_bn[0][0]']     \n",
            " on)                            32)                                                               \n",
            "                                                                                                  \n",
            " decoder_stage4_upsampling (UpS  (None, 64, 64, 64,   0          ['decoder_stage3b_relu[0][0]']   \n",
            " ampling3D)                     32)                                                               \n",
            "                                                                                                  \n",
            " decoder_stage4a_conv (Conv3D)  (None, 64, 64, 64,   13824       ['decoder_stage4_upsampling[0][0]\n",
            "                                16)                              ']                               \n",
            "                                                                                                  \n",
            " decoder_stage4a_bn (BatchNorma  (None, 64, 64, 64,   64         ['decoder_stage4a_conv[0][0]']   \n",
            " lization)                      16)                                                               \n",
            "                                                                                                  \n",
            " decoder_stage4a_relu (Activati  (None, 64, 64, 64,   0          ['decoder_stage4a_bn[0][0]']     \n",
            " on)                            16)                                                               \n",
            "                                                                                                  \n",
            " decoder_stage4b_conv (Conv3D)  (None, 64, 64, 64,   6912        ['decoder_stage4a_relu[0][0]']   \n",
            "                                16)                                                               \n",
            "                                                                                                  \n",
            " decoder_stage4b_bn (BatchNorma  (None, 64, 64, 64,   64         ['decoder_stage4b_conv[0][0]']   \n",
            " lization)                      16)                                                               \n",
            "                                                                                                  \n",
            " decoder_stage4b_relu (Activati  (None, 64, 64, 64,   0          ['decoder_stage4b_bn[0][0]']     \n",
            " on)                            16)                                                               \n",
            "                                                                                                  \n",
            " final_conv (Conv3D)            (None, 64, 64, 64,   1732        ['decoder_stage4b_relu[0][0]']   \n",
            "                                4)                                                                \n",
            "                                                                                                  \n",
            " softmax (Activation)           (None, 64, 64, 64,   0           ['final_conv[0][0]']             \n",
            "                                4)                                                                \n",
            "                                                                                                  \n",
            "==================================================================================================\n",
            "Total params: 71,233,540\n",
            "Trainable params: 71,229,508\n",
            "Non-trainable params: 4,032\n",
            "__________________________________________________________________________________________________\n",
            "None\n",
            "Epoch 1/100\n",
            "8/8 [==============================] - 48s 3s/step - loss: 1.0110 - iou_score: 0.0571 - f1-score: 0.1010 - val_loss: 1.6901 - val_iou_score: 0.0076 - val_f1-score: 0.0151\n",
            "Epoch 2/100\n",
            "8/8 [==============================] - 13s 2s/step - loss: 0.9751 - iou_score: 0.1585 - f1-score: 0.2558 - val_loss: 1.3070 - val_iou_score: 0.0597 - val_f1-score: 0.1057\n",
            "Epoch 3/100\n",
            "8/8 [==============================] - 13s 2s/step - loss: 0.9531 - iou_score: 0.3286 - f1-score: 0.4579 - val_loss: 1.1556 - val_iou_score: 0.1438 - val_f1-score: 0.2206\n",
            "Epoch 4/100\n",
            "8/8 [==============================] - 13s 2s/step - loss: 0.9380 - iou_score: 0.3992 - f1-score: 0.5268 - val_loss: 1.0706 - val_iou_score: 0.1669 - val_f1-score: 0.2497\n",
            "Epoch 5/100\n",
            "8/8 [==============================] - 13s 2s/step - loss: 0.9244 - iou_score: 0.4644 - f1-score: 0.6002 - val_loss: 1.0093 - val_iou_score: 0.2008 - val_f1-score: 0.3001\n",
            "Epoch 6/100\n",
            "8/8 [==============================] - 14s 2s/step - loss: 0.9150 - iou_score: 0.4935 - f1-score: 0.6207 - val_loss: 0.9802 - val_iou_score: 0.2448 - val_f1-score: 0.3604\n",
            "Epoch 7/100\n",
            "8/8 [==============================] - 14s 2s/step - loss: 0.9042 - iou_score: 0.5421 - f1-score: 0.6725 - val_loss: 0.9622 - val_iou_score: 0.2711 - val_f1-score: 0.3915\n",
            "Epoch 8/100\n",
            "8/8 [==============================] - 14s 2s/step - loss: 0.8974 - iou_score: 0.5591 - f1-score: 0.6841 - val_loss: 0.9326 - val_iou_score: 0.4006 - val_f1-score: 0.5480\n",
            "Epoch 9/100\n",
            "8/8 [==============================] - 14s 2s/step - loss: 0.8919 - iou_score: 0.5795 - f1-score: 0.7015 - val_loss: 0.9244 - val_iou_score: 0.4235 - val_f1-score: 0.5640\n",
            "Epoch 10/100\n",
            "8/8 [==============================] - 13s 2s/step - loss: 0.8856 - iou_score: 0.5911 - f1-score: 0.7148 - val_loss: 0.9113 - val_iou_score: 0.4819 - val_f1-score: 0.6189\n",
            "Epoch 11/100\n",
            "8/8 [==============================] - 13s 2s/step - loss: 0.8800 - iou_score: 0.5917 - f1-score: 0.7088 - val_loss: 0.9036 - val_iou_score: 0.5377 - val_f1-score: 0.6750\n",
            "Epoch 12/100\n",
            "8/8 [==============================] - 13s 2s/step - loss: 0.8741 - iou_score: 0.6258 - f1-score: 0.7415 - val_loss: 0.8993 - val_iou_score: 0.5499 - val_f1-score: 0.6794\n",
            "Epoch 13/100\n",
            "8/8 [==============================] - 13s 2s/step - loss: 0.8721 - iou_score: 0.6065 - f1-score: 0.7196 - val_loss: 0.8906 - val_iou_score: 0.6245 - val_f1-score: 0.7552\n",
            "Epoch 14/100\n",
            "8/8 [==============================] - 14s 2s/step - loss: 0.8668 - iou_score: 0.6181 - f1-score: 0.7277 - val_loss: 0.8907 - val_iou_score: 0.6141 - val_f1-score: 0.7373\n",
            "Epoch 15/100\n",
            "8/8 [==============================] - 14s 2s/step - loss: 0.8640 - iou_score: 0.6365 - f1-score: 0.7512 - val_loss: 0.8835 - val_iou_score: 0.6584 - val_f1-score: 0.7810\n",
            "Epoch 16/100\n",
            "8/8 [==============================] - 14s 2s/step - loss: 0.8553 - iou_score: 0.6656 - f1-score: 0.7774 - val_loss: 0.8833 - val_iou_score: 0.6596 - val_f1-score: 0.7793\n",
            "Epoch 17/100\n",
            "8/8 [==============================] - 14s 2s/step - loss: 0.8517 - iou_score: 0.6606 - f1-score: 0.7710 - val_loss: 0.8762 - val_iou_score: 0.6925 - val_f1-score: 0.8057\n",
            "Epoch 18/100\n",
            "8/8 [==============================] - 14s 2s/step - loss: 0.8505 - iou_score: 0.6679 - f1-score: 0.7793 - val_loss: 0.8797 - val_iou_score: 0.6324 - val_f1-score: 0.7530\n",
            "Epoch 19/100\n",
            "8/8 [==============================] - 14s 2s/step - loss: 0.8497 - iou_score: 0.6620 - f1-score: 0.7739 - val_loss: 0.8692 - val_iou_score: 0.6972 - val_f1-score: 0.8098\n",
            "Epoch 20/100\n",
            "8/8 [==============================] - 13s 2s/step - loss: 0.8419 - iou_score: 0.6712 - f1-score: 0.7740 - val_loss: 0.8721 - val_iou_score: 0.6790 - val_f1-score: 0.7910\n",
            "Epoch 21/100\n",
            "8/8 [==============================] - 14s 2s/step - loss: 0.8443 - iou_score: 0.6584 - f1-score: 0.7631 - val_loss: 0.8689 - val_iou_score: 0.6792 - val_f1-score: 0.7877\n",
            "Epoch 22/100\n",
            "8/8 [==============================] - 14s 2s/step - loss: 0.8396 - iou_score: 0.6676 - f1-score: 0.7789 - val_loss: 0.8599 - val_iou_score: 0.7248 - val_f1-score: 0.8288\n",
            "Epoch 23/100\n",
            "8/8 [==============================] - 14s 2s/step - loss: 0.8387 - iou_score: 0.6788 - f1-score: 0.7896 - val_loss: 0.8618 - val_iou_score: 0.7034 - val_f1-score: 0.8149\n",
            "Epoch 24/100\n",
            "8/8 [==============================] - 14s 2s/step - loss: 0.8364 - iou_score: 0.6711 - f1-score: 0.7782 - val_loss: 0.8544 - val_iou_score: 0.7174 - val_f1-score: 0.8199\n",
            "Epoch 25/100\n",
            "8/8 [==============================] - 13s 2s/step - loss: 0.8300 - iou_score: 0.7068 - f1-score: 0.8103 - val_loss: 0.8600 - val_iou_score: 0.6812 - val_f1-score: 0.7949\n",
            "Epoch 26/100\n",
            "8/8 [==============================] - 13s 2s/step - loss: 0.8284 - iou_score: 0.7048 - f1-score: 0.8108 - val_loss: 0.8543 - val_iou_score: 0.7039 - val_f1-score: 0.8071\n",
            "Epoch 27/100\n",
            "8/8 [==============================] - 13s 2s/step - loss: 0.8254 - iou_score: 0.7081 - f1-score: 0.8113 - val_loss: 0.8484 - val_iou_score: 0.7053 - val_f1-score: 0.8158\n",
            "Epoch 28/100\n",
            "8/8 [==============================] - 14s 2s/step - loss: 0.8265 - iou_score: 0.6952 - f1-score: 0.7989 - val_loss: 0.8487 - val_iou_score: 0.7096 - val_f1-score: 0.8158\n",
            "Epoch 29/100\n",
            "8/8 [==============================] - 13s 2s/step - loss: 0.8197 - iou_score: 0.7176 - f1-score: 0.8175 - val_loss: 0.8433 - val_iou_score: 0.7320 - val_f1-score: 0.8319\n",
            "Epoch 30/100\n",
            "8/8 [==============================] - 13s 2s/step - loss: 0.8228 - iou_score: 0.6996 - f1-score: 0.8048 - val_loss: 0.8381 - val_iou_score: 0.7358 - val_f1-score: 0.8370\n",
            "Epoch 31/100\n",
            "8/8 [==============================] - 13s 2s/step - loss: 0.8248 - iou_score: 0.7026 - f1-score: 0.8071 - val_loss: 0.8354 - val_iou_score: 0.7313 - val_f1-score: 0.8326\n",
            "Epoch 32/100\n",
            "8/8 [==============================] - 13s 2s/step - loss: 0.8236 - iou_score: 0.6864 - f1-score: 0.7865 - val_loss: 0.8368 - val_iou_score: 0.7275 - val_f1-score: 0.8259\n",
            "Epoch 33/100\n",
            "8/8 [==============================] - 13s 2s/step - loss: 0.8203 - iou_score: 0.6991 - f1-score: 0.7994 - val_loss: 0.8390 - val_iou_score: 0.7031 - val_f1-score: 0.8124\n",
            "Epoch 34/100\n",
            "8/8 [==============================] - 13s 2s/step - loss: 0.8172 - iou_score: 0.7036 - f1-score: 0.7978 - val_loss: 0.8254 - val_iou_score: 0.7497 - val_f1-score: 0.8460\n",
            "Epoch 35/100\n",
            "8/8 [==============================] - 13s 2s/step - loss: 0.8195 - iou_score: 0.7130 - f1-score: 0.8152 - val_loss: 0.8254 - val_iou_score: 0.7466 - val_f1-score: 0.8444\n",
            "Epoch 36/100\n",
            "8/8 [==============================] - 13s 2s/step - loss: 0.8138 - iou_score: 0.7352 - f1-score: 0.8320 - val_loss: 0.8248 - val_iou_score: 0.7396 - val_f1-score: 0.8377\n",
            "Epoch 37/100\n",
            "8/8 [==============================] - 13s 2s/step - loss: 0.8177 - iou_score: 0.7221 - f1-score: 0.8206 - val_loss: 0.8271 - val_iou_score: 0.7153 - val_f1-score: 0.8205\n",
            "Epoch 38/100\n",
            "8/8 [==============================] - 13s 2s/step - loss: 0.8150 - iou_score: 0.7266 - f1-score: 0.8266 - val_loss: 0.8205 - val_iou_score: 0.7463 - val_f1-score: 0.8421\n",
            "Epoch 39/100\n",
            "8/8 [==============================] - 13s 2s/step - loss: 0.8121 - iou_score: 0.7309 - f1-score: 0.8320 - val_loss: 0.8238 - val_iou_score: 0.7245 - val_f1-score: 0.8286\n",
            "Epoch 40/100\n",
            "8/8 [==============================] - 13s 2s/step - loss: 0.8088 - iou_score: 0.7234 - f1-score: 0.8153 - val_loss: 0.8261 - val_iou_score: 0.7019 - val_f1-score: 0.8112\n",
            "Epoch 41/100\n",
            "8/8 [==============================] - 13s 2s/step - loss: 0.8081 - iou_score: 0.7474 - f1-score: 0.8436 - val_loss: 0.8161 - val_iou_score: 0.7404 - val_f1-score: 0.8362\n",
            "Epoch 42/100\n",
            "8/8 [==============================] - 14s 2s/step - loss: 0.8125 - iou_score: 0.7036 - f1-score: 0.7984 - val_loss: 0.8192 - val_iou_score: 0.7285 - val_f1-score: 0.8313\n",
            "Epoch 43/100\n",
            "8/8 [==============================] - 13s 2s/step - loss: 0.8092 - iou_score: 0.7348 - f1-score: 0.8331 - val_loss: 0.8168 - val_iou_score: 0.7349 - val_f1-score: 0.8336\n",
            "Epoch 44/100\n",
            "8/8 [==============================] - 13s 2s/step - loss: 0.8057 - iou_score: 0.7526 - f1-score: 0.8472 - val_loss: 0.8165 - val_iou_score: 0.7364 - val_f1-score: 0.8340\n",
            "Epoch 45/100\n",
            "8/8 [==============================] - 13s 2s/step - loss: 0.8084 - iou_score: 0.7184 - f1-score: 0.8118 - val_loss: 0.8186 - val_iou_score: 0.7231 - val_f1-score: 0.8257\n",
            "Epoch 46/100\n",
            "8/8 [==============================] - 14s 2s/step - loss: 0.8099 - iou_score: 0.7419 - f1-score: 0.8369 - val_loss: 0.8116 - val_iou_score: 0.7464 - val_f1-score: 0.8411\n",
            "Epoch 47/100\n",
            "8/8 [==============================] - 13s 2s/step - loss: 0.8105 - iou_score: 0.7326 - f1-score: 0.8331 - val_loss: 0.8158 - val_iou_score: 0.7284 - val_f1-score: 0.8298\n",
            "Epoch 48/100\n",
            "8/8 [==============================] - 13s 2s/step - loss: 0.8103 - iou_score: 0.7085 - f1-score: 0.8062 - val_loss: 0.8164 - val_iou_score: 0.7192 - val_f1-score: 0.8198\n",
            "Epoch 49/100\n",
            "8/8 [==============================] - 13s 2s/step - loss: 0.8106 - iou_score: 0.7164 - f1-score: 0.8157 - val_loss: 0.8386 - val_iou_score: 0.6251 - val_f1-score: 0.7445\n",
            "Epoch 50/100\n",
            "8/8 [==============================] - 13s 2s/step - loss: 0.8100 - iou_score: 0.7285 - f1-score: 0.8287 - val_loss: 0.8078 - val_iou_score: 0.7506 - val_f1-score: 0.8451\n",
            "Epoch 51/100\n",
            "8/8 [==============================] - 13s 2s/step - loss: 0.8060 - iou_score: 0.7448 - f1-score: 0.8424 - val_loss: 0.8145 - val_iou_score: 0.7198 - val_f1-score: 0.8248\n",
            "Epoch 52/100\n",
            "8/8 [==============================] - 13s 2s/step - loss: 0.8048 - iou_score: 0.7481 - f1-score: 0.8417 - val_loss: 0.8098 - val_iou_score: 0.7416 - val_f1-score: 0.8394\n",
            "Epoch 53/100\n",
            "8/8 [==============================] - 13s 2s/step - loss: 0.8032 - iou_score: 0.7538 - f1-score: 0.8453 - val_loss: 0.8119 - val_iou_score: 0.7312 - val_f1-score: 0.8297\n",
            "Epoch 54/100\n",
            "8/8 [==============================] - 13s 2s/step - loss: 0.8021 - iou_score: 0.7554 - f1-score: 0.8479 - val_loss: 0.8177 - val_iou_score: 0.7052 - val_f1-score: 0.8132\n",
            "Epoch 55/100\n",
            "8/8 [==============================] - 13s 2s/step - loss: 0.8009 - iou_score: 0.7442 - f1-score: 0.8364 - val_loss: 0.8100 - val_iou_score: 0.7389 - val_f1-score: 0.8334\n",
            "Epoch 56/100\n",
            "8/8 [==============================] - 13s 2s/step - loss: 0.8050 - iou_score: 0.7488 - f1-score: 0.8416 - val_loss: 0.8378 - val_iou_score: 0.6278 - val_f1-score: 0.7469\n",
            "Epoch 57/100\n",
            "8/8 [==============================] - 13s 2s/step - loss: 0.8048 - iou_score: 0.7475 - f1-score: 0.8422 - val_loss: 0.8061 - val_iou_score: 0.7514 - val_f1-score: 0.8447\n",
            "Epoch 58/100\n",
            "8/8 [==============================] - 13s 2s/step - loss: 0.8016 - iou_score: 0.7397 - f1-score: 0.8287 - val_loss: 0.8109 - val_iou_score: 0.7338 - val_f1-score: 0.8326\n",
            "Epoch 59/100\n",
            "8/8 [==============================] - 13s 2s/step - loss: 0.8013 - iou_score: 0.7493 - f1-score: 0.8436 - val_loss: 0.8110 - val_iou_score: 0.7307 - val_f1-score: 0.8320\n",
            "Epoch 60/100\n",
            "8/8 [==============================] - 13s 2s/step - loss: 0.8034 - iou_score: 0.7319 - f1-score: 0.8175 - val_loss: 0.8188 - val_iou_score: 0.7095 - val_f1-score: 0.8110\n",
            "Epoch 61/100\n",
            "8/8 [==============================] - 13s 2s/step - loss: 0.8032 - iou_score: 0.7353 - f1-score: 0.8288 - val_loss: 0.8145 - val_iou_score: 0.7180 - val_f1-score: 0.8232\n",
            "Epoch 62/100\n",
            "8/8 [==============================] - 13s 2s/step - loss: 0.7993 - iou_score: 0.7621 - f1-score: 0.8545 - val_loss: 0.8102 - val_iou_score: 0.7385 - val_f1-score: 0.8366\n",
            "Epoch 63/100\n",
            "8/8 [==============================] - 13s 2s/step - loss: 0.7974 - iou_score: 0.7677 - f1-score: 0.8586 - val_loss: 0.8253 - val_iou_score: 0.6832 - val_f1-score: 0.7901\n",
            "Epoch 64/100\n",
            "8/8 [==============================] - 13s 2s/step - loss: 0.7995 - iou_score: 0.7673 - f1-score: 0.8570 - val_loss: 0.8122 - val_iou_score: 0.7283 - val_f1-score: 0.8252\n",
            "Epoch 65/100\n",
            "8/8 [==============================] - 13s 2s/step - loss: 0.8009 - iou_score: 0.7616 - f1-score: 0.8512 - val_loss: 0.8188 - val_iou_score: 0.7011 - val_f1-score: 0.8087\n",
            "Epoch 66/100\n",
            "8/8 [==============================] - 13s 2s/step - loss: 0.7996 - iou_score: 0.7551 - f1-score: 0.8438 - val_loss: 0.8177 - val_iou_score: 0.7107 - val_f1-score: 0.8099\n",
            "Epoch 67/100\n",
            "8/8 [==============================] - 13s 2s/step - loss: 0.7978 - iou_score: 0.7696 - f1-score: 0.8608 - val_loss: 0.8084 - val_iou_score: 0.7356 - val_f1-score: 0.8335\n",
            "Epoch 68/100\n",
            "8/8 [==============================] - 13s 2s/step - loss: 0.7967 - iou_score: 0.7708 - f1-score: 0.8611 - val_loss: 0.8113 - val_iou_score: 0.7301 - val_f1-score: 0.8306\n",
            "Epoch 69/100\n",
            "8/8 [==============================] - 13s 2s/step - loss: 0.7984 - iou_score: 0.7673 - f1-score: 0.8580 - val_loss: 0.8155 - val_iou_score: 0.7168 - val_f1-score: 0.8115\n",
            "Epoch 70/100\n",
            "8/8 [==============================] - 13s 2s/step - loss: 0.7976 - iou_score: 0.7597 - f1-score: 0.8524 - val_loss: 0.8126 - val_iou_score: 0.7237 - val_f1-score: 0.8248\n",
            "Epoch 71/100\n",
            "8/8 [==============================] - 13s 2s/step - loss: 0.8025 - iou_score: 0.7022 - f1-score: 0.7932 - val_loss: 0.8093 - val_iou_score: 0.7341 - val_f1-score: 0.8315\n",
            "Epoch 72/100\n",
            "8/8 [==============================] - 13s 2s/step - loss: 0.7993 - iou_score: 0.7615 - f1-score: 0.8549 - val_loss: 0.8084 - val_iou_score: 0.7378 - val_f1-score: 0.8353\n",
            "Epoch 73/100\n",
            "8/8 [==============================] - 13s 2s/step - loss: 0.8018 - iou_score: 0.7558 - f1-score: 0.8506 - val_loss: 0.8114 - val_iou_score: 0.7243 - val_f1-score: 0.8261\n",
            "Epoch 74/100\n",
            "8/8 [==============================] - 13s 2s/step - loss: 0.8038 - iou_score: 0.7296 - f1-score: 0.8203 - val_loss: 0.8062 - val_iou_score: 0.7445 - val_f1-score: 0.8382\n",
            "Epoch 75/100\n",
            "8/8 [==============================] - 13s 2s/step - loss: 0.8000 - iou_score: 0.7552 - f1-score: 0.8477 - val_loss: 0.8098 - val_iou_score: 0.7323 - val_f1-score: 0.8306\n",
            "Epoch 76/100\n",
            "8/8 [==============================] - 13s 2s/step - loss: 0.7986 - iou_score: 0.7523 - f1-score: 0.8454 - val_loss: 0.8039 - val_iou_score: 0.7545 - val_f1-score: 0.8461\n",
            "Epoch 77/100\n",
            "8/8 [==============================] - 13s 2s/step - loss: 0.8010 - iou_score: 0.7159 - f1-score: 0.8077 - val_loss: 0.8056 - val_iou_score: 0.7500 - val_f1-score: 0.8412\n",
            "Epoch 78/100\n",
            "8/8 [==============================] - 13s 2s/step - loss: 0.7978 - iou_score: 0.7685 - f1-score: 0.8611 - val_loss: 0.8058 - val_iou_score: 0.7446 - val_f1-score: 0.8411\n",
            "Epoch 79/100\n",
            "8/8 [==============================] - 13s 2s/step - loss: 0.7949 - iou_score: 0.7861 - f1-score: 0.8721 - val_loss: 0.8078 - val_iou_score: 0.7384 - val_f1-score: 0.8317\n",
            "Epoch 80/100\n",
            "8/8 [==============================] - 13s 2s/step - loss: 0.7972 - iou_score: 0.7647 - f1-score: 0.8554 - val_loss: 0.8093 - val_iou_score: 0.7367 - val_f1-score: 0.8320\n",
            "Epoch 81/100\n",
            "8/8 [==============================] - 13s 2s/step - loss: 0.7966 - iou_score: 0.7535 - f1-score: 0.8426 - val_loss: 0.8038 - val_iou_score: 0.7535 - val_f1-score: 0.8451\n",
            "Epoch 82/100\n",
            "8/8 [==============================] - 13s 2s/step - loss: 0.7983 - iou_score: 0.7499 - f1-score: 0.8386 - val_loss: 0.8205 - val_iou_score: 0.6906 - val_f1-score: 0.7984\n",
            "Epoch 83/100\n",
            "8/8 [==============================] - 13s 2s/step - loss: 0.7923 - iou_score: 0.7969 - f1-score: 0.8800 - val_loss: 0.8004 - val_iou_score: 0.7646 - val_f1-score: 0.8573\n",
            "Epoch 84/100\n",
            "8/8 [==============================] - 13s 2s/step - loss: 0.7983 - iou_score: 0.7699 - f1-score: 0.8616 - val_loss: 0.7977 - val_iou_score: 0.7775 - val_f1-score: 0.8654\n",
            "Epoch 85/100\n",
            "8/8 [==============================] - 13s 2s/step - loss: 0.7981 - iou_score: 0.7656 - f1-score: 0.8556 - val_loss: 0.8171 - val_iou_score: 0.7045 - val_f1-score: 0.8078\n",
            "Epoch 86/100\n",
            "8/8 [==============================] - 13s 2s/step - loss: 0.7915 - iou_score: 0.7978 - f1-score: 0.8806 - val_loss: 0.7977 - val_iou_score: 0.7769 - val_f1-score: 0.8653\n",
            "Epoch 87/100\n",
            "8/8 [==============================] - 13s 2s/step - loss: 0.7925 - iou_score: 0.7923 - f1-score: 0.8767 - val_loss: 0.8045 - val_iou_score: 0.7521 - val_f1-score: 0.8446\n",
            "Epoch 88/100\n",
            "8/8 [==============================] - 13s 2s/step - loss: 0.7945 - iou_score: 0.7751 - f1-score: 0.8587 - val_loss: 0.8083 - val_iou_score: 0.7350 - val_f1-score: 0.8341\n",
            "Epoch 89/100\n",
            "8/8 [==============================] - 13s 2s/step - loss: 0.7919 - iou_score: 0.7991 - f1-score: 0.8806 - val_loss: 0.8021 - val_iou_score: 0.7588 - val_f1-score: 0.8502\n",
            "Epoch 90/100\n",
            "8/8 [==============================] - 13s 2s/step - loss: 0.7905 - iou_score: 0.7979 - f1-score: 0.8790 - val_loss: 0.8055 - val_iou_score: 0.7473 - val_f1-score: 0.8419\n",
            "Epoch 91/100\n",
            "8/8 [==============================] - 13s 2s/step - loss: 0.7922 - iou_score: 0.7910 - f1-score: 0.8740 - val_loss: 0.8063 - val_iou_score: 0.7410 - val_f1-score: 0.8396\n",
            "Epoch 92/100\n",
            "8/8 [==============================] - 13s 2s/step - loss: 0.7905 - iou_score: 0.7889 - f1-score: 0.8710 - val_loss: 0.8151 - val_iou_score: 0.7103 - val_f1-score: 0.8149\n",
            "Epoch 93/100\n",
            "8/8 [==============================] - 13s 2s/step - loss: 0.7913 - iou_score: 0.7886 - f1-score: 0.8724 - val_loss: 0.8056 - val_iou_score: 0.7463 - val_f1-score: 0.8394\n",
            "Epoch 94/100\n",
            "8/8 [==============================] - 13s 2s/step - loss: 0.7884 - iou_score: 0.7979 - f1-score: 0.8789 - val_loss: 0.8027 - val_iou_score: 0.7590 - val_f1-score: 0.8509\n",
            "Epoch 95/100\n",
            "8/8 [==============================] - 13s 2s/step - loss: 0.7927 - iou_score: 0.7823 - f1-score: 0.8663 - val_loss: 0.8102 - val_iou_score: 0.7332 - val_f1-score: 0.8284\n",
            "Epoch 96/100\n",
            "8/8 [==============================] - 13s 2s/step - loss: 0.7913 - iou_score: 0.7814 - f1-score: 0.8668 - val_loss: 0.8011 - val_iou_score: 0.7648 - val_f1-score: 0.8550\n",
            "Epoch 97/100\n",
            "8/8 [==============================] - 13s 2s/step - loss: 0.7887 - iou_score: 0.7892 - f1-score: 0.8686 - val_loss: 0.8130 - val_iou_score: 0.7185 - val_f1-score: 0.8221\n",
            "Epoch 98/100\n",
            "8/8 [==============================] - 13s 2s/step - loss: 0.7897 - iou_score: 0.7973 - f1-score: 0.8796 - val_loss: 0.8026 - val_iou_score: 0.7576 - val_f1-score: 0.8520\n",
            "Epoch 99/100\n",
            "8/8 [==============================] - 13s 2s/step - loss: 0.7905 - iou_score: 0.7926 - f1-score: 0.8741 - val_loss: 0.8315 - val_iou_score: 0.6726 - val_f1-score: 0.7730\n",
            "Epoch 100/100\n",
            "8/8 [==============================] - 13s 2s/step - loss: 0.7888 - iou_score: 0.7957 - f1-score: 0.8776 - val_loss: 0.8022 - val_iou_score: 0.7579 - val_f1-score: 0.8537\n"
          ]
        }
      ]
    },
    {
      "cell_type": "code",
      "source": [
        "\n",
        "#Save model for future use\n",
        "model.save('/content/drive/MyDrive/Colab Notebooks/sandstone_data_for_ML/sandstone_3d/3D_model_vgg16_100epochs.h5')\n",
        "\n",
        "###"
      ],
      "metadata": {
        "id": "ZaVcO42Ni-b1"
      },
      "execution_count": 32,
      "outputs": []
    },
    {
      "cell_type": "code",
      "source": [
        "#plot the training and validation IoU and loss at each epoch\n",
        "loss = history.history['loss']\n",
        "val_loss = history.history['val_loss']\n",
        "epochs = range(1, len(loss) + 1)\n",
        "plt.plot(epochs, loss, 'y', label='Training loss')\n",
        "plt.plot(epochs, val_loss, 'r', label='Validation loss')\n",
        "plt.title('Training and validation loss')\n",
        "plt.xlabel('Epochs')\n",
        "plt.ylabel('Loss')\n",
        "plt.legend()\n",
        "plt.show()\n",
        "\n",
        "acc = history.history['iou_score']\n",
        "val_acc = history.history['val_iou_score']\n",
        "\n",
        "plt.plot(epochs, acc, 'y', label='Training IOU')\n",
        "plt.plot(epochs, val_acc, 'r', label='Validation IOU')\n",
        "plt.title('Training and validation IOU')\n",
        "plt.xlabel('Epochs')\n",
        "plt.ylabel('IOU')\n",
        "plt.legend()\n",
        "plt.show()"
      ],
      "metadata": {
        "colab": {
          "base_uri": "https://localhost:8080/",
          "height": 573
        },
        "id": "qWEj0-_NjOM2",
        "outputId": "c31b3049-9da7-4596-a3b5-0846f1a39182"
      },
      "execution_count": 33,
      "outputs": [
        {
          "output_type": "display_data",
          "data": {
            "text/plain": [
              "<Figure size 432x288 with 1 Axes>"
            ],
            "image/png": "[encoded data removed]"
          },
          "metadata": {
            "needs_background": "light"
          }
        },
        {
          "output_type": "display_data",
          "data": {
            "text/plain": [
              "<Figure size 432x288 with 1 Axes>"
            ],
            "image/png": "[encoded data removed]"
          },
          "metadata": {
            "needs_background": "light"
          }
        }
      ]
    },
    {
      "cell_type": "code",
      "source": [
        "#Load the pretrained model for testing and predictions. \n",
        "from keras.models import load_model\n",
        "my_model = load_model('/content/drive/MyDrive/Colab Notebooks/sandstone_data_for_ML/sandstone_3d/3D_model_vgg16_100epochs.h5', compile=False)\n",
        "#If you load a different model do not forget to preprocess accordingly.\n"
      ],
      "metadata": {
        "id": "xyUXQ6BLjcau"
      },
      "execution_count": 34,
      "outputs": []
    },
    {
      "cell_type": "code",
      "source": [
        "#Predict on the test data\n",
        "y_pred=my_model.predict(X_test)\n",
        "y_pred_argmax=np.argmax(y_pred, axis=4)\n",
        "y_test_argmax = np.argmax(y_test, axis=4)\n",
        "\n",
        "print(y_pred_argmax.shape)\n",
        "print(y_test_argmax.shape)\n",
        "print(np.unique(y_pred_argmax))"
      ],
      "metadata": {
        "colab": {
          "base_uri": "https://localhost:8080/"
        },
        "id": "kBvI58MJjojm",
        "outputId": "6b80447b-59c0-465f-b53e-6c6894a8dc81"
      },
      "execution_count": 36,
      "outputs": [
        {
          "output_type": "stream",
          "name": "stdout",
          "text": [
            "(7, 64, 64, 64)\n",
            "(7, 64, 64, 64)\n",
            "[2 3]\n"
          ]
        }
      ]
    },
    {
      "cell_type": "code",
      "source": [
        "# Using built in keras function for IoU\n",
        "# Only works on TF > 2.0\n",
        "from keras.metrics import MeanIoU\n",
        "from keras.metrics import MeanIoU\n",
        "n_classes = 4\n",
        "IOU_keras = MeanIoU(num_classes=n_classes)  \n",
        "IOU_keras.update_state(y_test_argmax, y_pred_argmax)\n",
        "print(\"Mean IoU =\", IOU_keras.result().numpy())\n",
        "\n",
        "#Test some random images\n",
        "import random\n",
        "test_img_number = random.randint(0, len(X_test))\n",
        "test_img = X_test[test_img_number]\n",
        "ground_truth=y_test[test_img_number]\n",
        "\n",
        "test_img_input=np.expand_dims(test_img, 0)\n",
        "test_img_input1 = preprocess_input(test_img_input)\n",
        "\n",
        "test_pred1 = my_model.predict(test_img_input1)\n",
        "test_prediction1 = np.argmax(test_pred1, axis=4)[0,:,:,:]\n",
        "print(test_prediction1.shape)\n",
        "\n",
        "ground_truth_argmax = np.argmax(ground_truth, axis=3)\n",
        "print(test_img.shape)\n",
        "\n",
        "#Plot individual slices from test predictions for verification\n",
        "slice = 14\n",
        "plt.figure(figsize=(12, 8))\n",
        "plt.subplot(231)\n",
        "plt.title('Testing Image')\n",
        "plt.imshow(test_img[slice,:,:,0], cmap='gray')\n",
        "plt.subplot(232)\n",
        "plt.title('Testing Label')\n",
        "plt.imshow(ground_truth_argmax[slice,:,:])\n",
        "plt.subplot(233)\n",
        "plt.title('Prediction on test image')\n",
        "plt.imshow(test_prediction1[slice,:,:])\n",
        "plt.show()"
      ],
      "metadata": {
        "colab": {
          "base_uri": "https://localhost:8080/",
          "height": 313
        },
        "id": "2geRboywj_i2",
        "outputId": "39a3ead3-5e7f-4edf-defa-4e6b5b4c54d5"
      },
      "execution_count": 44,
      "outputs": [
        {
          "output_type": "stream",
          "name": "stdout",
          "text": [
            "Mean IoU = 0.0058028353\n",
            "(64, 64, 64)\n",
            "(64, 64, 64, 3)\n"
          ]
        },
        {
          "output_type": "display_data",
          "data": {
            "text/plain": [
              "<Figure size 864x576 with 3 Axes>"
            ],
            "image/png": "[encoded data removed]"
          },
          "metadata": {
            "needs_background": "light"
          }
        }
      ]
    },
    {
      "cell_type": "code",
      "source": [
        "\"\"\"Now segment the full volume using the trained model.\"\"\"\n",
        "\n",
        "#Break the large image (volume) into patches of same size as the training images (patches)\n",
        "large_image = io.imread('/content/sandstone_data_for_ML/data_for_3D_Unet/448_images_512x512.tif')\n",
        "patches = patchify(large_image, (64, 64, 64), step=64)  #Step=256 for 256 patches means no overlap\n",
        "print(large_image.shape)\n",
        "print(patches.shape)\n"
      ],
      "metadata": {
        "colab": {
          "base_uri": "https://localhost:8080/"
        },
        "id": "BboEKj_ZkP2n",
        "outputId": "9d08ca46-69dd-4c9a-aa56-626d7dab48e9"
      },
      "execution_count": 46,
      "outputs": [
        {
          "output_type": "stream",
          "name": "stdout",
          "text": [
            "(448, 512, 512)\n",
            "(7, 8, 8, 64, 64, 64)\n"
          ]
        }
      ]
    },
    {
      "cell_type": "code",
      "source": [
        "# Predict each 3D patch   \n",
        "predicted_patches = []\n",
        "for i in range(patches.shape[0]):\n",
        "  for j in range(patches.shape[1]):\n",
        "    for k in range(patches.shape[2]):\n",
        "      #print(i,j,k)\n",
        "      single_patch = patches[i,j,k, :,:,:]\n",
        "      single_patch_3ch = np.stack((single_patch,)*3, axis=-1)\n",
        "      single_patch_3ch_input = preprocess_input(np.expand_dims(single_patch_3ch, axis=0))\n",
        "      single_patch_prediction = my_model.predict(single_patch_3ch_input)\n",
        "      single_patch_prediction_argmax = np.argmax(single_patch_prediction, axis=4)[0,:,:,:]\n",
        "      predicted_patches.append(single_patch_prediction_argmax)\n"
      ],
      "metadata": {
        "id": "IEkMh_cRk_bu"
      },
      "execution_count": 47,
      "outputs": []
    },
    {
      "cell_type": "code",
      "source": [
        "\"\"\" reshaping to the original shape \"\"\"\n",
        "\n",
        "#Convert list to numpy array\n",
        "predicted_patches = np.array(predicted_patches)\n",
        "print(predicted_patches.shape)\n",
        "\n",
        "#Reshape to the shape we had after patchifying\n",
        "predicted_patches_reshaped = np.reshape(predicted_patches, \n",
        "                                        (patches.shape[0], patches.shape[1], patches.shape[2],\n",
        "                                         patches.shape[3], patches.shape[4], patches.shape[5]) )\n",
        "print(predicted_patches_reshaped.shape)\n",
        "\n",
        "#Repach individual patches into the orginal volume shape\n",
        "reconstructed_image = unpatchify(predicted_patches_reshaped, large_image.shape)\n",
        "print(reconstructed_image.shape)\n",
        "\n",
        "print(reconstructed_image.dtype)\n",
        "\n",
        "#Convert to uint8 so we can open image in most image viewing software packages\n",
        "reconstructed_image=reconstructed_image.astype(np.uint8)\n",
        "print(reconstructed_image.dtype)\n"
      ],
      "metadata": {
        "colab": {
          "base_uri": "https://localhost:8080/"
        },
        "id": "GJ7PZQlxlYs-",
        "outputId": "67165d3b-2fc4-4ce6-9c91-ade4bbec6675"
      },
      "execution_count": 48,
      "outputs": [
        {
          "output_type": "stream",
          "name": "stdout",
          "text": [
            "(448, 64, 64, 64)\n",
            "(7, 8, 8, 64, 64, 64)\n",
            "(448, 512, 512)\n",
            "int64\n",
            "uint8\n"
          ]
        }
      ]
    },
    {
      "cell_type": "code",
      "source": [
        "#Now save it as segmented volume.\n",
        "from tifffile import imsave\n",
        "imsave('/content/drive/MyDrive/Colab Notebooks/sandstone_data_for_ML/sandstone_3d/segmented.tif', reconstructed_image)\n"
      ],
      "metadata": {
        "id": "kCKkcPdyldmu"
      },
      "execution_count": 50,
      "outputs": []
    },
    {
      "cell_type": "code",
      "source": [
        "#If you would like to save the volume as multichannel dataset....\n",
        "\n",
        "print(np.unique(reconstructed_image))"
      ],
      "metadata": {
        "colab": {
          "base_uri": "https://localhost:8080/"
        },
        "id": "Gb-kDCq2m4dm",
        "outputId": "9035ce69-8040-4b6c-8bb8-0241076116a4"
      },
      "execution_count": 51,
      "outputs": [
        {
          "output_type": "stream",
          "name": "stdout",
          "text": [
            "[0 1 2 3]\n"
          ]
        }
      ]
    },
    {
      "cell_type": "code",
      "source": [
        "#Seperate each channel/segment to be combined as multiple channels.\n",
        "num_segments=4\n",
        "segm0 = (reconstructed_image == 0)\n",
        "segm1 = (reconstructed_image == 1)\n",
        "segm2 = (reconstructed_image == 2)\n",
        "segm3 = (reconstructed_image == 3)\n",
        "\n",
        "final = np.empty((reconstructed_image.shape[0], reconstructed_image.shape[1], reconstructed_image.shape[2], num_segments))\n",
        "final[:,:,:,0] = segm0\n",
        "final[:,:,:,1] = segm1\n",
        "final[:,:,:,2] = segm2\n",
        "final[:,:,:,3] = segm3\n",
        "# Expand image array to 5D of order (T, Z, C, X, Y)\n",
        "# This is the convention for OMETIFF format as written by APEER library\n",
        "final = np.expand_dims(final, axis=0)\n",
        "final=np.swapaxes(final, 2, 4)\n",
        "\n",
        "final = final.astype(np.int8)\n",
        "\n",
        "print(\"Shape of the segmented volume is: T, Z, C, X, Y \", final.shape)\n",
        "print(final.dtype)"
      ],
      "metadata": {
        "colab": {
          "base_uri": "https://localhost:8080/"
        },
        "id": "xaE2JWjNm8SG",
        "outputId": "91f7bf29-ca24-4417-846f-cb159e61c05e"
      },
      "execution_count": 70,
      "outputs": [
        {
          "output_type": "stream",
          "name": "stdout",
          "text": [
            "Shape of the segmented volume is: T, Z, C, X, Y  (1, 448, 4, 512, 512)\n",
            "int8\n"
          ]
        }
      ]
    },
    {
      "cell_type": "code",
      "source": [
        "#Use APEER OMETIFF library to read and write multidimensional images\n",
        "!pip install apeer-ometiff-library\n",
        "\n",
        "from apeer_ometiff_library import io"
      ],
      "metadata": {
        "colab": {
          "base_uri": "https://localhost:8080/"
        },
        "id": "IFTA86AWnBa-",
        "outputId": "6fe42200-1a2b-4821-d866-7581a45eddc7"
      },
      "execution_count": 56,
      "outputs": [
        {
          "output_type": "stream",
          "name": "stdout",
          "text": [
            "Looking in indexes: https://pypi.org/simple, https://us-python.pkg.dev/colab-wheels/public/simple/\n",
            "Requirement already satisfied: apeer-ometiff-library in /usr/local/lib/python3.7/dist-packages (1.10.0)\n",
            "Requirement already satisfied: imagecodecs==2020.5.30 in /usr/local/lib/python3.7/dist-packages (from apeer-ometiff-library) (2020.5.30)\n",
            "Requirement already satisfied: tifffile==2020.6.3 in /usr/local/lib/python3.7/dist-packages (from apeer-ometiff-library) (2020.6.3)\n",
            "Requirement already satisfied: numpy==1.18.5 in /usr/local/lib/python3.7/dist-packages (from apeer-ometiff-library) (1.18.5)\n"
          ]
        }
      ]
    },
    {
      "cell_type": "code",
      "source": [
        "\n",
        "# Write dataset as multi-dimensional OMETIFF *image*\n",
        "io.write_ometiff('/content/drive/MyDrive/Colab Notebooks/sandstone_data_for_ML/sandstone_3d/segmented_multi_channel.ome.tiff', final)"
      ],
      "metadata": {
        "id": "-6ZaOz6Wn0q-"
      },
      "execution_count": 71,
      "outputs": []
    }
  ]
}